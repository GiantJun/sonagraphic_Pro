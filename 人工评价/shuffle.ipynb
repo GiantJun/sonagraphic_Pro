{
 "cells": [
  {
   "cell_type": "code",
   "execution_count": 25,
   "metadata": {},
   "outputs": [],
   "source": [
    "from os.path import join, basename, dirname, exists\n",
    "from os import listdir, makedirs\n",
    "import random\n",
    "from shutil import copy\n",
    "import csv\n",
    "\n",
    "random.seed(0)"
   ]
  },
  {
   "cell_type": "code",
   "execution_count": 27,
   "metadata": {},
   "outputs": [],
   "source": [
    "dataset_path = '括约肌测试集\\前瞻性测试集'\n",
    "save_dir = '括约肌测试集\\前瞻性测试集_打乱'\n",
    "if not exists(save_dir):\n",
    "    makedirs(save_dir)\n",
    "\n",
    "data_path = []\n",
    "for idx,class_name in enumerate(['标准','非标准']):\n",
    "    data_path.extend([(join(dataset_path, class_name, item),idx) for item in listdir(join(dataset_path, class_name))])\n"
   ]
  },
  {
   "cell_type": "code",
   "execution_count": 28,
   "metadata": {},
   "outputs": [
    {
     "data": {
      "text/plain": [
       "('括约肌测试集\\\\前瞻性测试集\\\\非标准\\\\20.bmp', 1)"
      ]
     },
     "execution_count": 28,
     "metadata": {},
     "output_type": "execute_result"
    }
   ],
   "source": [
    "data_path[200]"
   ]
  },
  {
   "cell_type": "code",
   "execution_count": 29,
   "metadata": {},
   "outputs": [
    {
     "data": {
      "text/plain": [
       "('括约肌测试集\\\\前瞻性测试集\\\\标准\\\\49.bmp', 0)"
      ]
     },
     "execution_count": 29,
     "metadata": {},
     "output_type": "execute_result"
    }
   ],
   "source": [
    "random.shuffle(data_path)\n",
    "data_path[200]"
   ]
  },
  {
   "cell_type": "code",
   "execution_count": 30,
   "metadata": {},
   "outputs": [
    {
     "data": {
      "text/plain": [
       "'bmp'"
      ]
     },
     "execution_count": 30,
     "metadata": {},
     "output_type": "execute_result"
    }
   ],
   "source": [
    "basename(data_path[200][0]).split('.')[-1]"
   ]
  },
  {
   "cell_type": "code",
   "execution_count": 26,
   "metadata": {},
   "outputs": [
    {
     "name": "stdout",
     "output_type": "stream",
     "text": [
      "0 括约肌测试集\\前瞻性测试集\\标准\\1.bmp 0\n"
     ]
    },
    {
     "ename": "FileNotFoundError",
     "evalue": "[Errno 2] No such file or directory: '括约肌测试集\\\\前瞻性测试集_打乱\\\\0.bmp'",
     "output_type": "error",
     "traceback": [
      "\u001b[1;31m---------------------------------------------------------------------------\u001b[0m",
      "\u001b[1;31mFileNotFoundError\u001b[0m                         Traceback (most recent call last)",
      "\u001b[1;32mc:\\Users\\93113\\Desktop\\shuffle.ipynb Cell 6\u001b[0m in \u001b[0;36m<cell line: 1>\u001b[1;34m()\u001b[0m\n\u001b[0;32m      <a href='vscode-notebook-cell:/c%3A/Users/93113/Desktop/shuffle.ipynb#W2sZmlsZQ%3D%3D?line=5'>6</a>\u001b[0m \u001b[39mprint\u001b[39m(\u001b[39m'\u001b[39m\u001b[39m{}\u001b[39;00m\u001b[39m \u001b[39m\u001b[39m{}\u001b[39;00m\u001b[39m \u001b[39m\u001b[39m{}\u001b[39;00m\u001b[39m'\u001b[39m\u001b[39m.\u001b[39mformat(idx,img_path, label))\n\u001b[0;32m      <a href='vscode-notebook-cell:/c%3A/Users/93113/Desktop/shuffle.ipynb#W2sZmlsZQ%3D%3D?line=6'>7</a>\u001b[0m suffix \u001b[39m=\u001b[39m basename(img_path)\u001b[39m.\u001b[39msplit(\u001b[39m'\u001b[39m\u001b[39m.\u001b[39m\u001b[39m'\u001b[39m)[\u001b[39m-\u001b[39m\u001b[39m1\u001b[39m]\n\u001b[1;32m----> <a href='vscode-notebook-cell:/c%3A/Users/93113/Desktop/shuffle.ipynb#W2sZmlsZQ%3D%3D?line=7'>8</a>\u001b[0m copy(img_path, join(save_dir, \u001b[39mstr\u001b[39;49m(idx)\u001b[39m+\u001b[39;49m\u001b[39m'\u001b[39;49m\u001b[39m.\u001b[39;49m\u001b[39m'\u001b[39;49m\u001b[39m+\u001b[39;49msuffix))\n\u001b[0;32m     <a href='vscode-notebook-cell:/c%3A/Users/93113/Desktop/shuffle.ipynb#W2sZmlsZQ%3D%3D?line=9'>10</a>\u001b[0m csv_writer\u001b[39m.\u001b[39mwriterow([idx, label, img_path])\n",
      "File \u001b[1;32mC:\\Program Files\\WindowsApps\\PythonSoftwareFoundation.Python.3.8_3.8.2800.0_x64__qbz5n2kfra8p0\\lib\\shutil.py:418\u001b[0m, in \u001b[0;36mcopy\u001b[1;34m(src, dst, follow_symlinks)\u001b[0m\n\u001b[0;32m    416\u001b[0m \u001b[39mif\u001b[39;00m os\u001b[39m.\u001b[39mpath\u001b[39m.\u001b[39misdir(dst):\n\u001b[0;32m    417\u001b[0m     dst \u001b[39m=\u001b[39m os\u001b[39m.\u001b[39mpath\u001b[39m.\u001b[39mjoin(dst, os\u001b[39m.\u001b[39mpath\u001b[39m.\u001b[39mbasename(src))\n\u001b[1;32m--> 418\u001b[0m copyfile(src, dst, follow_symlinks\u001b[39m=\u001b[39;49mfollow_symlinks)\n\u001b[0;32m    419\u001b[0m copymode(src, dst, follow_symlinks\u001b[39m=\u001b[39mfollow_symlinks)\n\u001b[0;32m    420\u001b[0m \u001b[39mreturn\u001b[39;00m dst\n",
      "File \u001b[1;32mC:\\Program Files\\WindowsApps\\PythonSoftwareFoundation.Python.3.8_3.8.2800.0_x64__qbz5n2kfra8p0\\lib\\shutil.py:264\u001b[0m, in \u001b[0;36mcopyfile\u001b[1;34m(src, dst, follow_symlinks)\u001b[0m\n\u001b[0;32m    262\u001b[0m     os\u001b[39m.\u001b[39msymlink(os\u001b[39m.\u001b[39mreadlink(src), dst)\n\u001b[0;32m    263\u001b[0m \u001b[39melse\u001b[39;00m:\n\u001b[1;32m--> 264\u001b[0m     \u001b[39mwith\u001b[39;00m \u001b[39mopen\u001b[39m(src, \u001b[39m'\u001b[39m\u001b[39mrb\u001b[39m\u001b[39m'\u001b[39m) \u001b[39mas\u001b[39;00m fsrc, \u001b[39mopen\u001b[39;49m(dst, \u001b[39m'\u001b[39;49m\u001b[39mwb\u001b[39;49m\u001b[39m'\u001b[39;49m) \u001b[39mas\u001b[39;00m fdst:\n\u001b[0;32m    265\u001b[0m         \u001b[39m# macOS\u001b[39;00m\n\u001b[0;32m    266\u001b[0m         \u001b[39mif\u001b[39;00m _HAS_FCOPYFILE:\n\u001b[0;32m    267\u001b[0m             \u001b[39mtry\u001b[39;00m:\n",
      "\u001b[1;31mFileNotFoundError\u001b[0m: [Errno 2] No such file or directory: '括约肌测试集\\\\前瞻性测试集_打乱\\\\0.bmp'"
     ]
    }
   ],
   "source": [
    "with open(join(dirname(dataset_path), basename(dataset_path)+'_打乱.csv'), 'w') as shuffle_csv:\n",
    "    csv_writer = csv.writer(shuffle_csv)\n",
    "    csv_writer.writerow(['idx', 'label', 'origin_path'])\n",
    "    for idx, item in enumerate(data_path):\n",
    "        img_path, label = item\n",
    "        print('{} {} {}'.format(idx,img_path, label))\n",
    "        suffix = basename(img_path).split('.')[-1]\n",
    "        copy(img_path, join(save_dir, str(idx)+'.'+suffix))\n",
    "\n",
    "        csv_writer.writerow([idx, label, img_path])"
   ]
  }
 ],
 "metadata": {
  "kernelspec": {
   "display_name": "Python 3.8.10 64-bit (windows store)",
   "language": "python",
   "name": "python3"
  },
  "language_info": {
   "codemirror_mode": {
    "name": "ipython",
    "version": 3
   },
   "file_extension": ".py",
   "mimetype": "text/x-python",
   "name": "python",
   "nbconvert_exporter": "python",
   "pygments_lexer": "ipython3",
   "version": "3.8.10"
  },
  "orig_nbformat": 4,
  "vscode": {
   "interpreter": {
    "hash": "874bd529e7dc09886c3a73cd8d6fe3876c70d126b3af61750329f27bd0c90454"
   }
  }
 },
 "nbformat": 4,
 "nbformat_minor": 2
}
